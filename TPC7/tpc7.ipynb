{
 "cells": [
  {
   "cell_type": "markdown",
   "metadata": {},
   "source": [
    "### TPC7: Construir uma aplicação para manipular polinómios\n",
    "\n",
    "Depois da aula da semana passada, já tens algumas funções desenvolvidas que te irão ajudar a construir a aplicação que se descreve a seguir.\n",
    "\n",
    "* Aquecimento: Instancia os seguintes exemplos num ficheiro de texto com o formato definido na última aula\n",
    "    - `x^7 - 3.7x^4 + 5x^3 - 88`\n",
    "    - `2x^2 + 17`\n",
    "    - `7x^4 + 6x^3 - x^2 + 43`\n",
    "    - `x^4`\n",
    "    - `x^2`\n",
    "    - `x^3`\n",
    "\n",
    "* Desenvolve as seguintes funcionalidades que não foram trabalhadas na aula:\n",
    "    1. Define uma função que dado um polinómio calcula a sua derivada;\n",
    "    2. Define uma função que recebe dois polinómios `p1` e `p2` e calcula um novo polinómio correspondente à soma de `p1` e `p2`;\n",
    "    3. Define uma função que recebe um polinómio e o desenha num gráfico.\n",
    "\n",
    "* Num ficheiro Python, cria uma aplicação para manipular polinómios com as seguintes operações:\n",
    "    1. Criar um polinómio interativamente;\n",
    "    2. Ler uma lista de polinómios de um ficheiro;\n",
    "    3. Listar polinómios: mostra numa tabela os polinómios carregados em memória, adicionando um número de ordem a cada um;\n",
    "    4. Calcular o valor de um polinómio num ponto (usa o número de ordem para referenciar o polinómio);\n",
    "    5. Listar polinómios com grau: à listagem anterior, acrescenta mais uma coluna com o grau;\n",
    "    6. Maior grau: mostra o polinómio de maior grau e indica o seu número de ordem;\n",
    "    7. Derivada: mostra uma tabela com os polinómios e as respetivas derivadas;\n",
    "    8. Somar dois polinómios: indicando os seus números de ordem;\n",
    "    9. Gerar um gráfico para o polinómio;\n",
    "    10. Gravar num ficheiro os polinómios em memória;\n",
    "    0. Sair da aplicação\n"
   ]
  },
  {
   "cell_type": "code",
   "execution_count": 70,
   "metadata": {},
   "outputs": [],
   "source": [
    "pol1=[(1,7),(-3.7,4),(5,3),(-88,0)]\n",
    "pol2=[(7,4),(6,3),(-1,2),(43,0)]\n",
    "pol3=[(1,4)]\n",
    "pol4=[(1,2)]\n",
    "pol5=[(1,3)]\n",
    "listaPol=[pol1,pol2,pol3,pol4,pol5]\n"
   ]
  },
  {
   "cell_type": "code",
   "execution_count": 44,
   "metadata": {},
   "outputs": [
    {
     "name": "stdout",
     "output_type": "stream",
     "text": [
      "[(1, 4), (2, 3), (3, 2), (4, 1), (1, 0)]\n"
     ]
    }
   ],
   "source": [
    "#1\n",
    "def criaPolIn():\n",
    "    resPol = []\n",
    "    grau=int(input(\"Escolha o grau do seu polinomio\"))\n",
    "    while grau>-1: #ou while grau >=0:\n",
    "\n",
    "        coef=int(input(\"Escolha o coeficiente do termo de grau\"+ str(grau) +\":\"))\n",
    "        if coef != 0:\n",
    "            monomio=(coef, grau)\n",
    "            resPol.append(monomio)\n",
    "        grau=grau-1\n",
    "        \n",
    "    return resPol \n",
    "polinomio4 = criaPolIn()\n",
    "print (polinomio4)"
   ]
  },
  {
   "cell_type": "code",
   "execution_count": 42,
   "metadata": {},
   "outputs": [
    {
     "name": "stdout",
     "output_type": "stream",
     "text": [
      "['1.0 x^7.0 + -3.7 x^4.0 + 5.0 x^3.0 + -88.0', '7.0 x^4.0 + 6.0 x^3.0 + -1.0 x^2.0 + 43.0', '1.0 x^4.0', '1.0 x^2.0', '1.0 x^3.0']\n"
     ]
    }
   ],
   "source": [
    "#2\n",
    "def leFicheiroPol(fnome):\n",
    "    listPol = []\n",
    "    with open(fnome, mode=\"r\") as file:\n",
    "        for line in file:\n",
    "            termos = line.strip().split()\n",
    "            polinomio = \"\"\n",
    "            for term in termos:\n",
    "                coef_str, expo_str = term.split(\";\")\n",
    "                coef = float(coef_str)\n",
    "                expo = float(expo_str)\n",
    "                if polinomio:\n",
    "                    polinomio += \" + \"\n",
    "                if expo !=0:\n",
    "                    polinomio += str(coef) + \" x^\" + str(expo)\n",
    "                else:\n",
    "                    polinomio += str(coef)\n",
    "            listPol.append(polinomio)\n",
    "    return listPol\n",
    "polinomios = leFicheiroPol(\"polinomios2\")\n",
    "print(polinomios)"
   ]
  },
  {
   "cell_type": "code",
   "execution_count": 65,
   "metadata": {},
   "outputs": [
    {
     "name": "stdout",
     "output_type": "stream",
     "text": [
      "1    |    +1x^7+-3.7x^4+5x^3+-88x^0\n",
      "2    |    +7x^4+6x^3+-1x^2+43x^0\n",
      "3    |    +1x^4\n",
      "4    |    +1x^2\n",
      "5    |    +1x^3\n"
     ]
    }
   ],
   "source": [
    "#3\n",
    "def verPolinomios(polinomio):\n",
    "    pol=\"\"\n",
    "    for termo in polinomio:\n",
    "        coef,expo=termo\n",
    "        monomio= str(coef)+\"x^\"+str(expo)\n",
    "        pol= pol+\"+\"+monomio\n",
    "    return pol\n",
    "def listarPol(listap):\n",
    "    numOrdem=1\n",
    "    for i in range(0,len(listap)):\n",
    "        print(numOrdem, \"   |   \", verPolinomios(listap[i]))\n",
    "        numOrdem=numOrdem+1\n",
    "\n",
    "listarPol(listaPol)"
   ]
  },
  {
   "cell_type": "code",
   "execution_count": 95,
   "metadata": {},
   "outputs": [
    {
     "data": {
      "text/plain": [
       "16"
      ]
     },
     "execution_count": 95,
     "metadata": {},
     "output_type": "execute_result"
    }
   ],
   "source": [
    "#4\n",
    "def calcPolinomio(p, x):\n",
    "    res = 0\n",
    "    for termo in p:\n",
    "        coeficiente=termo[0]\n",
    "        potencia=termo[1]\n",
    "        resul= coeficiente*(x**potencia)\n",
    "        res=res+resul\n",
    "    \n",
    "    return res\n",
    "\n",
    "calcPolinomio(pol3,2)"
   ]
  },
  {
   "cell_type": "code",
   "execution_count": 64,
   "metadata": {},
   "outputs": [
    {
     "name": "stdout",
     "output_type": "stream",
     "text": [
      "nº pol|   polinomio   |        grau polinomio\n",
      "1    |    +1x^7+-3.7x^4+5x^3+-88x^0        |    7\n",
      "2    |    +7x^4+6x^3+-1x^2+43x^0        |    4\n",
      "3    |    +1x^4        |    4\n",
      "4    |    +1x^2        |    2\n",
      "5    |    +1x^3        |    3\n"
     ]
    }
   ],
   "source": [
    "#5\n",
    "def grauPolinomio(p):\n",
    "    grau=p[0][1]\n",
    "    for termo in p:\n",
    "        if termo[1]>grau:\n",
    "            grau=termo[1]  \n",
    "    return grau\n",
    "\n",
    "def listarGrau(listap):\n",
    "    numOrdem=1\n",
    "    print(\"nº pol|   polinomio   |        grau polinomio\")\n",
    "    for i in range(0,len(listap)):\n",
    "        print(numOrdem, \"   |   \", verPolinomios(listap[i]),\"       |   \",grauPolinomio(listap[i]))\n",
    "        numOrdem=numOrdem+1\n",
    "\n",
    "listarGrau(listaPol)"
   ]
  },
  {
   "cell_type": "code",
   "execution_count": 109,
   "metadata": {},
   "outputs": [
    {
     "name": "stdout",
     "output_type": "stream",
     "text": [
      "na lista 1:\n",
      "o polinomio 1 tem grau 7 e é o de maior grau\n",
      "na lista 2:\n",
      "o polinomio 2 tem grau 13 e é o de maior grau\n"
     ]
    }
   ],
   "source": [
    "#6\n",
    "def maiorGrauLista(listap):\n",
    "    maior=grauPolinomio(listap[0])\n",
    "    numPol=1\n",
    "    for pol in listap:\n",
    "        if grauPolinomio(pol)>maior:\n",
    "            maior=grauPolinomio(pol)\n",
    "            numPol+=1\n",
    "    print(\"o polinomio\", numPol, \"tem grau\", maior, \"e é o de maior grau\")\n",
    "    return\n",
    "#listaPol2 para testar o contador\n",
    "listaPol2=[[(1, 7), (-3.7, 4), (5, 3), (-88, 0)], [(7, 8), (6, 3), (-1, 2), (43, 13)], [(1, 4)], [(1, 1)], [(1, 3)]]\n",
    "print(\"na lista 1:\")\n",
    "maiorGrauLista(listaPol)\n",
    "print(\"na lista 2:\")\n",
    "maiorGrauLista(listaPol2)\n"
   ]
  },
  {
   "cell_type": "code",
   "execution_count": 46,
   "metadata": {},
   "outputs": [
    {
     "name": "stdout",
     "output_type": "stream",
     "text": [
      "+ 7 x^ 6+ -14.8 x^ 3+ 15 x^ 2"
     ]
    }
   ],
   "source": [
    "#7 mas tem de fazer tabela com todos\n",
    "def derivarPolinomio(p):\n",
    "    for t in p:\n",
    "        c,g=t\n",
    "        if g!=0 and g!=1:\n",
    "            print(\"+\",g*c,\"x^\",g-1,end=\"\")\n",
    "        if g==1:\n",
    "            print(c, end=\"\")\n",
    "    return\n",
    "derivarPolinomio(pol1)"
   ]
  },
  {
   "cell_type": "code",
   "execution_count": 9,
   "metadata": {},
   "outputs": [
    {
     "data": {
      "text/plain": [
       "[(1, 7), (3.3, 4), (11, 3), (-1, 2), (-45, 0)]"
      ]
     },
     "execution_count": 9,
     "metadata": {},
     "output_type": "execute_result"
    }
   ],
   "source": [
    "#8\n",
    "def somarPolinomios(p1, p2):\n",
    "    resultado = []\n",
    "    i = 0\n",
    "    j = 0\n",
    "    while i < len(p1) and j < len(p2):\n",
    "        coef1, grau1 = p1[i]\n",
    "        coef2, grau2 = p2[j]\n",
    "        if grau1 == grau2:\n",
    "            resultado.append((coef1 + coef2, grau1))\n",
    "            i += 1\n",
    "            j += 1\n",
    "        elif grau1 > grau2:\n",
    "            resultado.append((coef1, grau1))\n",
    "            i += 1\n",
    "        else:\n",
    "            resultado.append((coef2, grau2))\n",
    "            j += 1\n",
    "\n",
    "    while i < len(p1):\n",
    "        coef, grau = p1[i]\n",
    "        resultado.append((coef, grau))\n",
    "        i += 1\n",
    "\n",
    "    while j < len(p2):\n",
    "        coef, grau = p2[j]\n",
    "        resultado.append((coef, grau))\n",
    "        j += 1\n",
    "\n",
    "    return resultado\n",
    "\n",
    "pol1 = [(1, 7), (-3.7, 4), (5, 3), (-88, 0)]  # x^7 - 3.7x^4 + 5x^3 - 88\n",
    "pol2 = [(7, 4), (6, 3), (-1, 2), (43, 0)]   # 7x^4 + 6x^3 - x^2 + 43\n",
    "#pol1=[(1,7),(-3.7,4),(5,3),(-88,0)] ## x^7 - 3.7x^4 + 5x^3 - 88\n",
    "#pol2=[(7,4),(6,3),(-1,2),(43,0)] ##2x^2 + 17\n",
    "somarPolinomios(pol1,pol2)"
   ]
  },
  {
   "cell_type": "code",
   "execution_count": 89,
   "metadata": {},
   "outputs": [
    {
     "data": {
      "image/png": "[encoded data removed]",
      "text/plain": [
       "<Figure size 640x480 with 1 Axes>"
      ]
     },
     "metadata": {},
     "output_type": "display_data"
    }
   ],
   "source": [
    "#9 gerar um grafico para o polinomio\n",
    "import matplotlib.pyplot as plt\n",
    "import numpy as np\n",
    "\n",
    "def plot_polinomial(polinomial, intervalo, num_pontos=100):\n",
    "    x_min, x_max = intervalo\n",
    "    step = (x_max - x_min) / (num_pontos - 1)\n",
    "    \n",
    "    x = [x_min + i * step for i in range(num_pontos)]\n",
    "    \n",
    "    y = [0] * num_pontos\n",
    "    for coef, expo in polinomial:\n",
    "        for i in range(num_pontos):\n",
    "            y[i] += coef * (x[i] ** expo)\n",
    "    \n",
    "    plt.plot(x, y)\n",
    "    plt.xlabel('x')\n",
    "    plt.ylabel('y')\n",
    "    plt.title('Polinómio')\n",
    "    plt.show()\n",
    "\n",
    "plot_polinomial(pol1, intervalo=(-10, 10))\n"
   ]
  },
  {
   "cell_type": "code",
   "execution_count": 11,
   "metadata": {},
   "outputs": [],
   "source": [
    "#10\n",
    "def guardarPolinomios(listap, fnome):\n",
    "    file=open(fnome,\"w\")\n",
    "    for p in listap:\n",
    "        for termo in p:\n",
    "            coe, grau=termo\n",
    "            file.write(str(coe)+\";\"+ str(grau)+\"  \")\n",
    "        file.write(\"\\n\")\n",
    "        \n",
    "    return\n",
    "\n",
    "guardarPolinomios(listaPol,\"polinomios2\")"
   ]
  },
  {
   "cell_type": "code",
   "execution_count": 121,
   "metadata": {},
   "outputs": [
    {
     "name": "stdout",
     "output_type": "stream",
     "text": [
      "[(7, 2), (4, 1), (2, 0)]\n",
      "['1.0 x^7.0 + -3.7 x^4.0 + 5.0 x^3.0 + -88.0', '7.0 x^4.0 + 6.0 x^3.0 + -1.0 x^2.0 + 43.0', '1.0 x^4.0', '1.0 x^2.0', '1.0 x^3.0']\n",
      "1    |    +1x^7+-3.7x^4+5x^3+-88x^0\n",
      "2    |    +7x^4+6x^3+-1x^2+43x^0\n",
      "3    |    +1x^4\n",
      "4    |    +1x^2\n",
      "5    |    +1x^3\n",
      "199\n",
      "nº pol|   polinomio   |        grau polinomio\n",
      "1    |    +1x^7+-3.7x^4+5x^3+-88x^0        |    7\n",
      "2    |    +7x^4+6x^3+-1x^2+43x^0        |    4\n",
      "3    |    +1x^4        |    4\n",
      "4    |    +1x^2        |    2\n",
      "5    |    +1x^3        |    3\n",
      "None\n",
      "o polinomio 1 tem grau 7 e é o de maior grau\n",
      "+ 4 x^ 3None\n",
      "[(8, 4), (6, 3), (-1, 2), (43, 0)]\n"
     ]
    },
    {
     "data": {
      "image/png": "[encoded data removed]",
      "text/plain": [
       "<Figure size 640x480 with 1 Axes>"
      ]
     },
     "metadata": {},
     "output_type": "display_data"
    },
    {
     "name": "stdout",
     "output_type": "stream",
     "text": [
      "Fim\n"
     ]
    }
   ],
   "source": [
    "#11\n",
    "def menu():\n",
    "    opção= int(input(\"introduza 1 número entre 1 e 11\"))\n",
    "    while opção!=11:\n",
    "        if opção==1:\n",
    "            print(criaPolIn())\n",
    "        elif opção==2:\n",
    "            polinomios = leFicheiroPol(\"polinomios2\")\n",
    "            print(polinomios)\n",
    "        elif opção==3:\n",
    "            listarPol(listaPol)\n",
    "        elif opção ==4:\n",
    "            n=int(input('indique o nº do polinomio'))\n",
    "            p=listaPol[n-1]\n",
    "            x=int(input('indique o valor de x'))\n",
    "            print(calcPolinomio(p, x))\n",
    "        elif opção==5:\n",
    "            print(listarGrau(listaPol))\n",
    "        elif opção==6:\n",
    "            maiorGrauLista(listaPol)\n",
    "        elif opção==7:\n",
    "            n=int(input('indique o nº do polinomio'))\n",
    "            p=listaPol[n-1]\n",
    "            print(derivarPolinomio(p))\n",
    "        elif opção==8:\n",
    "            r=int(input('indique o nº do primeiro polinomio'))\n",
    "            p=listaPol[r-1]\n",
    "            x=int(input('indique o nº do segundo polinomio'))\n",
    "            n=listaPol[x-1]\n",
    "            print(somarPolinomios(p,n))\n",
    "        elif opção==9:\n",
    "            n=int(input('indique o nº do polinomio'))\n",
    "            p=listaPol[n-1]\n",
    "            x=int(input(\"indique o limite inferior\"))\n",
    "            y=int(input(\"indique o limite superior\"))\n",
    "            plot_polinomial(p,intervalo=(x, y))\n",
    "        elif opção==10:\n",
    "            guardarPolinomios(listaPol, \"polinomios2\")\n",
    "        opção= int(input(\"introduza 1 número entre 1 e 11\"))\n",
    "    print(\"Fim\")\n",
    "    \n",
    "\n",
    "menu()\n"
   ]
  }
 ],
 "metadata": {
  "kernelspec": {
   "display_name": "Python 3",
   "language": "python",
   "name": "python3"
  },
  "language_info": {
   "codemirror_mode": {
    "name": "ipython",
    "version": 3
   },
   "file_extension": ".py",
   "mimetype": "text/x-python",
   "name": "python",
   "nbconvert_exporter": "python",
   "pygments_lexer": "ipython3",
   "version": "3.10.0"
  }
 },
 "nbformat": 4,
 "nbformat_minor": 2
}
