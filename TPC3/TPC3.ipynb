{
 "cells": [
  {
   "cell_type": "markdown",
   "metadata": {},
   "source": [
    "## TPC3: Adivinha o número!?\n",
    "\n",
    "Desenvolve em Python o código necessário para o jogo do Adivinha o número: \n",
    "* O jogo deverá ter dois modos: o computador tenta acertar no número que o jogador pensou ou, o jogador tenta acertar no número que o computador pensou; \n",
    "* No fim, o programa deverá indicar quantas tentativas foram realizadas para chegar ao resultado;\n",
    "* O Jogo: \n",
    "    - o utilizador pensa num número entre 0 e 100;\n",
    "    - o computador tenta adivinhar indicando um número do intervalo;\n",
    "    - o utilizador indica se o número em que pensou é **maior**, **menor**, ou se o computador **acertou**;\n",
    "    - ao terminar, o programa imprime o número de tentativas que o computador teve de fazer até chegar ao número.\n",
    "\n",
    "Que conclusão podes tirar sobre o número de tentativas necessárias para um número entre 0 e 100? E se fosse entre 0 e 1000?"
   ]
  },
  {
   "cell_type": "code",
   "execution_count": 1,
   "metadata": {},
   "outputs": [
    {
     "name": "stdout",
     "output_type": "stream",
     "text": [
      "O jogo comecou\n",
      "O numero certo é menor\n",
      "O numero certo é menor\n",
      "O numero certo é menor\n",
      "O numero certo é menor\n",
      "O numero certo é menor\n",
      "O numero certo é menor\n",
      "Acertou em 7 tentativas\n"
     ]
    }
   ],
   "source": [
    "import random\n",
    "print('O jogo comecou')\n",
    "numeroCerto=random.randrange(0,101)\n",
    "contador=1\n",
    "numeroEscolhido=int(input('Adivinhe um numero'))\n",
    "while numeroCerto != numeroEscolhido:\n",
    "    if numeroEscolhido < numeroCerto:\n",
    "        print('O numero certo é maior')\n",
    "        \n",
    "    elif numeroEscolhido > numeroCerto:\n",
    "        print('O numero certo é menor')\n",
    "\n",
    "    contador=contador+1\n",
    "    numeroEscolhido=int(input('Escolha outro numero'))\n",
    "print('Acertou em',contador,'tentativas')\n",
    "\n",
    "#O numero de tentativas num espaço menor de valores possiveis é menor que num espaço maior   "
   ]
  },
  {
   "cell_type": "code",
   "execution_count": 1,
   "metadata": {},
   "outputs": [
    {
     "name": "stdout",
     "output_type": "stream",
     "text": [
      "O jogo comecou\n",
      "O numero certo é muito menor\n",
      "O numero certo é menor\n",
      "O numero certo é maior\n",
      "O numero certo é menor\n",
      "O numero certo é menor\n",
      "O numero certo é maior\n",
      "O numero certo é maior\n",
      "O numero certo é maior\n",
      "O numero certo é maior\n",
      "Acertou em 10 tentativas\n"
     ]
    }
   ],
   "source": [
    "import random\n",
    "print('O jogo comecou')\n",
    "numeroCerto=random.randrange(0,1001)\n",
    "contador=1\n",
    "numeroEscolhido=int(input('Adivinhe um numero'))\n",
    "numeroMuitoMenor = numeroCerto -51\n",
    "numeroMuitoMaior=numeroCerto +51\n",
    "while numeroCerto != numeroEscolhido:\n",
    "    if numeroMuitoMenor < numeroEscolhido < numeroMuitoMaior:\n",
    "        if numeroEscolhido < numeroCerto:\n",
    "            print('O numero certo é maior')\n",
    "        \n",
    "        elif numeroEscolhido > numeroCerto:\n",
    "            print('O numero certo é menor')\n",
    "    \n",
    "    \n",
    "    elif numeroMuitoMenor > numeroEscolhido :\n",
    "        print('O numero certo é muito maior ')\n",
    "    elif numeroMuitoMaior < numeroEscolhido :\n",
    "        print('O numero certo é muito menor')\n",
    "    contador=contador+1\n",
    "    numeroEscolhido=int(input('Escolha outro numero'))\n",
    "print('Acertou em',contador,'tentativas')\n",
    "\n"
   ]
  }
 ],
 "metadata": {
  "kernelspec": {
   "display_name": "Python 3",
   "language": "python",
   "name": "python3"
  },
  "language_info": {
   "codemirror_mode": {
    "name": "ipython",
    "version": 3
   },
   "file_extension": ".py",
   "mimetype": "text/x-python",
   "name": "python",
   "nbconvert_exporter": "python",
   "pygments_lexer": "ipython3",
   "version": "3.10.0"
  },
  "orig_nbformat": 4
 },
 "nbformat": 4,
 "nbformat_minor": 2
}
